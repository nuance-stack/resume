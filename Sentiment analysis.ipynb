{
 "cells": [
  {
   "cell_type": "code",
   "execution_count": 2,
   "id": "d8ee8ecc",
   "metadata": {},
   "outputs": [],
   "source": [
    "\n",
    "import pandas as pd \n",
    "import numpy as np\n",
    "import matplotlib.pyplot as plt\n",
    "import seaborn as sns\n",
    "\n",
    "from collections import Counter\n",
    "import re\n",
    "\n",
    "\n",
    "import nltk as nl\n",
    "from nltk.corpus import stopwords\n",
    "from nltk.stem.snowball import SnowballStemmer\n",
    "from nltk.stem import WordNetLemmatizer \n",
    "\n",
    "from sklearn.feature_extraction.text import CountVectorizer,TfidfVectorizer\n",
    "from sklearn.model_selection import train_test_split\n",
    "\n",
    "\n",
    "from sklearn.svm import SVC\n",
    "from sklearn.naive_bayes import MultinomialNB, BernoulliNB,GaussianNB\n",
    "from sklearn.neural_network import MLPClassifier\n",
    "\n",
    "from sklearn.model_selection import GridSearchCV\n",
    "from sklearn.metrics import confusion_matrix\n",
    "from sklearn.metrics import confusion_matrix, precision_score, recall_score, f1_score, accuracy_score\n",
    "\n",
    "\n"
   ]
  },
  {
   "cell_type": "code",
   "execution_count": 3,
   "id": "577819a8",
   "metadata": {},
   "outputs": [
    {
     "data": {
      "text/html": [
       "<div>\n",
       "<style scoped>\n",
       "    .dataframe tbody tr th:only-of-type {\n",
       "        vertical-align: middle;\n",
       "    }\n",
       "\n",
       "    .dataframe tbody tr th {\n",
       "        vertical-align: top;\n",
       "    }\n",
       "\n",
       "    .dataframe thead th {\n",
       "        text-align: right;\n",
       "    }\n",
       "</style>\n",
       "<table border=\"1\" class=\"dataframe\">\n",
       "  <thead>\n",
       "    <tr style=\"text-align: right;\">\n",
       "      <th></th>\n",
       "      <th>x</th>\n",
       "      <th>y</th>\n",
       "    </tr>\n",
       "  </thead>\n",
       "  <tbody>\n",
       "    <tr>\n",
       "      <th>0</th>\n",
       "      <td>Wow... Loved this place.</td>\n",
       "      <td>1</td>\n",
       "    </tr>\n",
       "    <tr>\n",
       "      <th>1</th>\n",
       "      <td>Crust is not good.</td>\n",
       "      <td>0</td>\n",
       "    </tr>\n",
       "    <tr>\n",
       "      <th>2</th>\n",
       "      <td>Not tasty and the texture was just nasty.</td>\n",
       "      <td>0</td>\n",
       "    </tr>\n",
       "    <tr>\n",
       "      <th>3</th>\n",
       "      <td>Stopped by during the late May bank holiday of...</td>\n",
       "      <td>1</td>\n",
       "    </tr>\n",
       "    <tr>\n",
       "      <th>4</th>\n",
       "      <td>The selection on the menu was great and so wer...</td>\n",
       "      <td>1</td>\n",
       "    </tr>\n",
       "    <tr>\n",
       "      <th>...</th>\n",
       "      <td>...</td>\n",
       "      <td>...</td>\n",
       "    </tr>\n",
       "    <tr>\n",
       "      <th>2995</th>\n",
       "      <td>The screen does get smudged easily because it ...</td>\n",
       "      <td>0</td>\n",
       "    </tr>\n",
       "    <tr>\n",
       "      <th>2996</th>\n",
       "      <td>What a piece of junk.. I lose more calls on th...</td>\n",
       "      <td>0</td>\n",
       "    </tr>\n",
       "    <tr>\n",
       "      <th>2997</th>\n",
       "      <td>Item Does Not Match Picture.</td>\n",
       "      <td>0</td>\n",
       "    </tr>\n",
       "    <tr>\n",
       "      <th>2998</th>\n",
       "      <td>The only thing that disappoint me is the infra...</td>\n",
       "      <td>0</td>\n",
       "    </tr>\n",
       "    <tr>\n",
       "      <th>2999</th>\n",
       "      <td>You can not answer calls with the unit, never ...</td>\n",
       "      <td>0</td>\n",
       "    </tr>\n",
       "  </tbody>\n",
       "</table>\n",
       "<p>3000 rows × 2 columns</p>\n",
       "</div>"
      ],
      "text/plain": [
       "                                                      x  y\n",
       "0                              Wow... Loved this place.  1\n",
       "1                                    Crust is not good.  0\n",
       "2             Not tasty and the texture was just nasty.  0\n",
       "3     Stopped by during the late May bank holiday of...  1\n",
       "4     The selection on the menu was great and so wer...  1\n",
       "...                                                 ... ..\n",
       "2995  The screen does get smudged easily because it ...  0\n",
       "2996  What a piece of junk.. I lose more calls on th...  0\n",
       "2997                       Item Does Not Match Picture.  0\n",
       "2998  The only thing that disappoint me is the infra...  0\n",
       "2999  You can not answer calls with the unit, never ...  0\n",
       "\n",
       "[3000 rows x 2 columns]"
      ]
     },
     "execution_count": 3,
     "metadata": {},
     "output_type": "execute_result"
    }
   ],
   "source": [
    "\n",
    "f=open(\"yelp_labelled.txt\")\n",
    "a_y=[]\n",
    "for l in f:\n",
    " l=l.strip(\"\\n \\n\")\n",
    " a_y+=[[l[:-2],int(l[-1])]]\n",
    "df1=pd.DataFrame(a_y,columns=[\"x\",\"y\"],index=None)\n",
    "f.close()\n",
    "f=open(\"imdb_labelled.txt\")\n",
    "a_y=[]\n",
    "for l in f:\n",
    " l=l.strip(\"\\n \\n\")\n",
    " a_y+=[[l[:-2],int(l[-1])]]\n",
    "df2=pd.DataFrame(a_y,columns=[\"x\",\"y\"],index=None)\n",
    "f.close()\n",
    "f=open(\"amazon_cells_labelled.txt\")\n",
    "a_y=[]\n",
    "for l in f:\n",
    " l=l.strip(\"\\n \\n\")\n",
    " a_y+=[[l[:-2],int(l[-1])]]\n",
    "df3=pd.DataFrame(a_y,columns=[\"x\",\"y\"],index=None)\n",
    "f.close()\n",
    "df=pd.concat([df1, df2, df3],ignore_index=True)\n",
    "df"
   ]
  },
  {
   "cell_type": "code",
   "execution_count": 4,
   "id": "e83e5dc5",
   "metadata": {
    "scrolled": true
   },
   "outputs": [
    {
     "name": "stderr",
     "output_type": "stream",
     "text": [
      "[nltk_data] Downloading package wordnet to\n",
      "[nltk_data]     C:\\Users\\juniu\\AppData\\Roaming\\nltk_data...\n",
      "[nltk_data]   Package wordnet is already up-to-date!\n",
      "[nltk_data] Downloading package omw-1.4 to\n",
      "[nltk_data]     C:\\Users\\juniu\\AppData\\Roaming\\nltk_data...\n",
      "[nltk_data]   Package omw-1.4 is already up-to-date!\n",
      "[nltk_data] Downloading package stopwords to\n",
      "[nltk_data]     C:\\Users\\juniu\\AppData\\Roaming\\nltk_data...\n",
      "[nltk_data]   Package stopwords is already up-to-date!\n"
     ]
    },
    {
     "data": {
      "text/plain": [
       "True"
      ]
     },
     "execution_count": 4,
     "metadata": {},
     "output_type": "execute_result"
    }
   ],
   "source": [
    "nl.download('wordnet')\n",
    "nl.download('omw-1.4')\n",
    "nl.download('stopwords')"
   ]
  },
  {
   "cell_type": "code",
   "execution_count": 5,
   "id": "b0ffc7e8",
   "metadata": {},
   "outputs": [],
   "source": [
    "stop_words = stopwords.words('english')\n",
    "stemmer = SnowballStemmer(\"english\")\n",
    "lemmatizer = WordNetLemmatizer()"
   ]
  },
  {
   "cell_type": "code",
   "execution_count": 6,
   "id": "d7a4764f",
   "metadata": {},
   "outputs": [],
   "source": [
    "def clean_text(text):\n",
    "    new_text=text.lower()\n",
    "    clean_text= re.sub(\"[^a-z]+\",\" \",new_text)\n",
    "    clean_text_stop_removed = \"\"\n",
    "    for w in clean_text.split(\" \")[1:]:\n",
    "        if not w in stop_words and len(w) > 3:\n",
    "            clean_text_stop_removed += w\n",
    "            clean_text_stop_removed += \" \"\n",
    "            clean_text_stop_removed=stemmer.stem(clean_text_stop_removed)\n",
    "    return clean_text_stop_removed"
   ]
  },
  {
   "cell_type": "code",
   "execution_count": 7,
   "id": "be3e7c5b",
   "metadata": {},
   "outputs": [],
   "source": [
    "df[\"text_clean\"] = df[\"x\"]\n",
    "df_clean = df.drop(df.columns[0:1],axis=1)\n",
    "df_clean['len'] = df_clean['text_clean'].str.len()"
   ]
  },
  {
   "cell_type": "code",
   "execution_count": 8,
   "id": "d360bf0a",
   "metadata": {},
   "outputs": [],
   "source": [
    "x = df_clean['text_clean']\n",
    "y = df_clean['y']\n",
    "x_train, x_test, y_train, y_test = train_test_split(x,y,test_size = 0.2,random_state=82)"
   ]
  },
  {
   "cell_type": "code",
   "execution_count": 9,
   "id": "9893e144",
   "metadata": {},
   "outputs": [],
   "source": [
    "Tfid_vec = TfidfVectorizer()\n",
    "train_Tfid = Tfid_vec.fit_transform(x_train)\n",
    "test_Tfid = Tfid_vec.transform(x_test)"
   ]
  },
  {
   "cell_type": "code",
   "execution_count": 10,
   "id": "13d8c014",
   "metadata": {
    "scrolled": true
   },
   "outputs": [
    {
     "name": "stdout",
     "output_type": "stream",
     "text": [
      "==============REPORT==============\n",
      "\n",
      "BernoulliNB : {'alpha': 1, 'fit_prior': True}\n",
      "Accuracy: 0.868 \tPrecision: 0.869 \tRecall: 0.868 \t\tF1: 0.868\n",
      "\n"
     ]
    },
    {
     "data": {
      "image/png": "[encoded data removed]",
      "text/plain": [
       "<Figure size 640x480 with 2 Axes>"
      ]
     },
     "metadata": {},
     "output_type": "display_data"
    }
   ],
   "source": [
    "performance_metrics_Tfid = []\n",
    "print(\"==============REPORT==============\\n\")\n",
    "model = BernoulliNB()\n",
    "param = { 'alpha': [0.1, 1], 'fit_prior': [True, False] }\n",
    "\n",
    "gs = GridSearchCV(model, param, cv=10, error_score=2, refit=True)\n",
    "gs.fit(train_Tfid, y_train)\n",
    "y_pred = gs.predict(test_Tfid)\n",
    "\n",
    "accuracy_sc = accuracy_score(y_test, y_pred)\n",
    "precision_sc= precision_score(y_test, y_pred, average='macro')\n",
    "recall_sc = recall_score(y_test, y_pred, average='macro')\n",
    "f1_sc =  f1_score(y_test, y_pred, average='macro')\n",
    "        \n",
    "performance_metrics_Tfid.append([\"BernoulliNB\",accuracy_sc,precision_sc,recall_sc,f1_sc])\n",
    "print(\"BernoulliNB\", ':', gs.best_params_)\n",
    "print(\"Accuracy: %1.3f \\tPrecision: %1.3f \\tRecall: %1.3f \\t\\tF1: %1.3f\\n\" % (accuracy_sc, precision_sc, recall_sc, f1_sc))\n",
    " \n",
    "\n",
    "sns.heatmap(confusion_matrix(y_test,y_pred), annot=True,  fmt='g')\n",
    "plt.show()\n",
    "   \n"
   ]
  },
  {
   "cell_type": "code",
   "execution_count": null,
   "id": "5ad414ed",
   "metadata": {},
   "outputs": [],
   "source": []
  }
 ],
 "metadata": {
  "kernelspec": {
   "display_name": "Python 3 (ipykernel)",
   "language": "python",
   "name": "python3"
  },
  "language_info": {
   "codemirror_mode": {
    "name": "ipython",
    "version": 3
   },
   "file_extension": ".py",
   "mimetype": "text/x-python",
   "name": "python",
   "nbconvert_exporter": "python",
   "pygments_lexer": "ipython3",
   "version": "3.9.0"
  }
 },
 "nbformat": 4,
 "nbformat_minor": 5
}
